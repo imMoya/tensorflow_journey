{
 "cells": [
  {
   "cell_type": "code",
   "execution_count": 2,
   "id": "aa6bd703-bc1c-4b24-ad9f-5517e78aa566",
   "metadata": {},
   "outputs": [
    {
     "name": "stdout",
     "output_type": "stream",
     "text": [
      "Collecting tensorflow-probability\n",
      "  Downloading tensorflow_probability-0.19.0-py2.py3-none-any.whl (6.7 MB)\n",
      "\u001b[2K     \u001b[38;2;114;156;31m━━━━━━━━━━━━━━━━━━━━━━━━━━━━━━━━━━━━━━━━\u001b[0m \u001b[32m6.7/6.7 MB\u001b[0m \u001b[31m6.3 MB/s\u001b[0m eta \u001b[36m0:00:00\u001b[0mm eta \u001b[36m0:00:01\u001b[0m[36m0:00:01\u001b[0m\n",
      "\u001b[?25hRequirement already satisfied: decorator in /Users/ignaciomoyaredondo/opt/anaconda3/envs/tf/lib/python3.9/site-packages (from tensorflow-probability) (5.1.1)\n",
      "Requirement already satisfied: six>=1.10.0 in /Users/ignaciomoyaredondo/opt/anaconda3/envs/tf/lib/python3.9/site-packages (from tensorflow-probability) (1.16.0)\n",
      "Requirement already satisfied: gast>=0.3.2 in /Users/ignaciomoyaredondo/opt/anaconda3/envs/tf/lib/python3.9/site-packages (from tensorflow-probability) (0.4.0)\n",
      "Requirement already satisfied: numpy>=1.13.3 in /Users/ignaciomoyaredondo/opt/anaconda3/envs/tf/lib/python3.9/site-packages (from tensorflow-probability) (1.24.1)\n",
      "Collecting dm-tree\n",
      "  Downloading dm_tree-0.1.8-cp39-cp39-macosx_10_9_x86_64.whl (115 kB)\n",
      "\u001b[2K     \u001b[38;2;114;156;31m━━━━━━━━━━━━━━━━━━━━━━━━━━━━━━━━━━━━━━━\u001b[0m \u001b[32m115.4/115.4 kB\u001b[0m \u001b[31m2.8 MB/s\u001b[0m eta \u001b[36m0:00:00\u001b[0m[36m0:00:01\u001b[0m\n",
      "\u001b[?25hRequirement already satisfied: absl-py in /Users/ignaciomoyaredondo/opt/anaconda3/envs/tf/lib/python3.9/site-packages (from tensorflow-probability) (1.3.0)\n",
      "Collecting cloudpickle>=1.3\n",
      "  Downloading cloudpickle-2.2.0-py3-none-any.whl (25 kB)\n",
      "Installing collected packages: dm-tree, cloudpickle, tensorflow-probability\n",
      "Successfully installed cloudpickle-2.2.0 dm-tree-0.1.8 tensorflow-probability-0.19.0\n",
      "Collecting imageio\n",
      "  Downloading imageio-2.23.0-py3-none-any.whl (3.4 MB)\n",
      "\u001b[2K     \u001b[38;2;114;156;31m━━━━━━━━━━━━━━━━━━━━━━━━━━━━━━━━━━━━━━━━\u001b[0m \u001b[32m3.4/3.4 MB\u001b[0m \u001b[31m3.4 MB/s\u001b[0m eta \u001b[36m0:00:00\u001b[0mm eta \u001b[36m0:00:01\u001b[0m0:01\u001b[0m:01\u001b[0m\n",
      "\u001b[?25hRequirement already satisfied: numpy in /Users/ignaciomoyaredondo/opt/anaconda3/envs/tf/lib/python3.9/site-packages (from imageio) (1.24.1)\n",
      "Requirement already satisfied: pillow>=8.3.2 in /Users/ignaciomoyaredondo/opt/anaconda3/envs/tf/lib/python3.9/site-packages (from imageio) (9.3.0)\n",
      "Installing collected packages: imageio\n",
      "Successfully installed imageio-2.23.0\n",
      "Collecting git+https://github.com/tensorflow/docs\n",
      "  Cloning https://github.com/tensorflow/docs to /private/var/folders/zf/p75y8jj52c72dh5cv6ys92pm0000gn/T/pip-req-build-y9mdq_7p\n",
      "  Running command git clone --filter=blob:none --quiet https://github.com/tensorflow/docs /private/var/folders/zf/p75y8jj52c72dh5cv6ys92pm0000gn/T/pip-req-build-y9mdq_7p\n",
      "  Resolved https://github.com/tensorflow/docs to commit 881afa31a959c86c39664c1d81d00e453eddf3f2\n",
      "  Preparing metadata (setup.py) ... \u001b[?25ldone\n",
      "\u001b[?25hCollecting astor\n",
      "  Using cached astor-0.8.1-py2.py3-none-any.whl (27 kB)\n",
      "Requirement already satisfied: absl-py in /Users/ignaciomoyaredondo/opt/anaconda3/envs/tf/lib/python3.9/site-packages (from tensorflow-docs==0.0.0.dev0) (1.3.0)\n",
      "Requirement already satisfied: jinja2 in /Users/ignaciomoyaredondo/opt/anaconda3/envs/tf/lib/python3.9/site-packages (from tensorflow-docs==0.0.0.dev0) (3.1.2)\n",
      "Requirement already satisfied: nbformat in /Users/ignaciomoyaredondo/opt/anaconda3/envs/tf/lib/python3.9/site-packages (from tensorflow-docs==0.0.0.dev0) (5.7.1)\n",
      "Requirement already satisfied: protobuf<3.20,>=3.12.0 in /Users/ignaciomoyaredondo/opt/anaconda3/envs/tf/lib/python3.9/site-packages (from tensorflow-docs==0.0.0.dev0) (3.19.6)\n",
      "Requirement already satisfied: pyyaml in /Users/ignaciomoyaredondo/opt/anaconda3/envs/tf/lib/python3.9/site-packages (from tensorflow-docs==0.0.0.dev0) (6.0)\n",
      "Requirement already satisfied: MarkupSafe>=2.0 in /Users/ignaciomoyaredondo/opt/anaconda3/envs/tf/lib/python3.9/site-packages (from jinja2->tensorflow-docs==0.0.0.dev0) (2.1.1)\n",
      "Requirement already satisfied: jsonschema>=2.6 in /Users/ignaciomoyaredondo/opt/anaconda3/envs/tf/lib/python3.9/site-packages (from nbformat->tensorflow-docs==0.0.0.dev0) (4.17.3)\n",
      "Requirement already satisfied: fastjsonschema in /Users/ignaciomoyaredondo/opt/anaconda3/envs/tf/lib/python3.9/site-packages (from nbformat->tensorflow-docs==0.0.0.dev0) (2.16.2)\n",
      "Requirement already satisfied: traitlets>=5.1 in /Users/ignaciomoyaredondo/opt/anaconda3/envs/tf/lib/python3.9/site-packages (from nbformat->tensorflow-docs==0.0.0.dev0) (5.8.0)\n",
      "Requirement already satisfied: jupyter-core in /Users/ignaciomoyaredondo/opt/anaconda3/envs/tf/lib/python3.9/site-packages (from nbformat->tensorflow-docs==0.0.0.dev0) (5.1.1)\n",
      "Requirement already satisfied: attrs>=17.4.0 in /Users/ignaciomoyaredondo/opt/anaconda3/envs/tf/lib/python3.9/site-packages (from jsonschema>=2.6->nbformat->tensorflow-docs==0.0.0.dev0) (22.2.0)\n",
      "Requirement already satisfied: pyrsistent!=0.17.0,!=0.17.1,!=0.17.2,>=0.14.0 in /Users/ignaciomoyaredondo/opt/anaconda3/envs/tf/lib/python3.9/site-packages (from jsonschema>=2.6->nbformat->tensorflow-docs==0.0.0.dev0) (0.19.2)\n",
      "Requirement already satisfied: platformdirs>=2.5 in /Users/ignaciomoyaredondo/opt/anaconda3/envs/tf/lib/python3.9/site-packages (from jupyter-core->nbformat->tensorflow-docs==0.0.0.dev0) (2.6.0)\n",
      "Building wheels for collected packages: tensorflow-docs\n",
      "  Building wheel for tensorflow-docs (setup.py) ... \u001b[?25ldone\n",
      "\u001b[?25h  Created wheel for tensorflow-docs: filename=tensorflow_docs-0.0.0.dev0-py3-none-any.whl size=180390 sha256=d7043f262cc4f63c9c96f165b544b93cd69042f015a72669807a7a4d6eab8466\n",
      "  Stored in directory: /private/var/folders/zf/p75y8jj52c72dh5cv6ys92pm0000gn/T/pip-ephem-wheel-cache-n6xslev1/wheels/fc/f8/3b/5d21409a59cb1be9b1ade11f682039ced75b84de9dd6a0c8de\n",
      "Successfully built tensorflow-docs\n",
      "Installing collected packages: astor, tensorflow-docs\n",
      "Successfully installed astor-0.8.1 tensorflow-docs-0.0.0.dev0\n"
     ]
    }
   ],
   "source": [
    "!pip install tensorflow-probability\n",
    "!pip install imageio\n",
    "!pip install git+https://github.com/tensorflow/docs"
   ]
  },
  {
   "cell_type": "code",
   "execution_count": 1,
   "id": "357a190f-95b0-4fbd-848a-3f8866a9e979",
   "metadata": {},
   "outputs": [
    {
     "name": "stderr",
     "output_type": "stream",
     "text": [
      "2023-01-05 15:53:08.074746: I tensorflow/core/platform/cpu_feature_guard.cc:193] This TensorFlow binary is optimized with oneAPI Deep Neural Network Library (oneDNN) to use the following CPU instructions in performance-critical operations:  AVX2 FMA\n",
      "To enable them in other operations, rebuild TensorFlow with the appropriate compiler flags.\n"
     ]
    }
   ],
   "source": [
    "from IPython import display\n",
    "import glob\n",
    "import imageio\n",
    "import matplotlib.pyplot as plt\n",
    "import numpy as np\n",
    "import PIL\n",
    "import tensorflow as tf\n",
    "import tensorflow_probability as tfp\n",
    "import time"
   ]
  },
  {
   "cell_type": "markdown",
   "id": "caa0cc59-5f79-438c-ab10-7f5c84deb640",
   "metadata": {},
   "source": [
    "### Loading dataset"
   ]
  },
  {
   "cell_type": "code",
   "execution_count": 52,
   "id": "c7124e82-1849-43f4-b2fa-13df0c044de6",
   "metadata": {},
   "outputs": [],
   "source": [
    "(train_images, _), (test_images, _) = tf.keras.datasets.mnist.load_data()"
   ]
  },
  {
   "cell_type": "code",
   "execution_count": 53,
   "id": "e711ec0c-7058-4f78-a953-bd691dbc2ce9",
   "metadata": {},
   "outputs": [],
   "source": [
    "def preprocess_images(images):\n",
    "    \" Scales dataset and assigns 0 or 1 value in order to make de dataset binary\"\n",
    "    images = images.reshape((images.shape[0], 28, 28, 1)) / 255.\n",
    "    return np.where(images > .5, 1.0, 0.0).astype('float32')"
   ]
  },
  {
   "cell_type": "code",
   "execution_count": 54,
   "id": "6060769d-0c26-43df-bc2a-658c88760117",
   "metadata": {},
   "outputs": [],
   "source": [
    "train_images = preprocess_images(train_images)\n",
    "test_images = preprocess_images(test_images)"
   ]
  },
  {
   "cell_type": "markdown",
   "id": "fe22988f-919f-4a9c-8eba-d36a52feb525",
   "metadata": {},
   "source": [
    "### Preparing dataset for training"
   ]
  },
  {
   "cell_type": "code",
   "execution_count": 55,
   "id": "f1fa2947-f007-4a1a-b8ea-41886faa0f84",
   "metadata": {},
   "outputs": [],
   "source": [
    "batch_size = 32 \n",
    "train_size = train_images.shape[0]\n",
    "test_size = test_images.shape[0]"
   ]
  },
  {
   "cell_type": "code",
   "execution_count": 56,
   "id": "d5a0dbac-a6e4-4424-b0a6-293cf1c5fabf",
   "metadata": {},
   "outputs": [],
   "source": [
    "def dataset_from_images(images, shuffle_buffer_size=1000, batch_size=32):\n",
    "    dataset = tf.data.Dataset.from_tensor_slices(images)\n",
    "    dataset = dataset.shuffle(shuffle_buffer_size)\n",
    "    return dataset.batch(batch_size).prefetch(1)"
   ]
  },
  {
   "cell_type": "code",
   "execution_count": 57,
   "id": "9909d00f-e2be-415b-9ce6-92a45de94102",
   "metadata": {},
   "outputs": [],
   "source": [
    "train_dataset = dataset_from_images(train_images, shuffle_buffer_size=train_size, batch_size=batch_size)\n",
    "test_dataset = dataset_from_images(test_images, shuffle_buffer_size=test_size, batch_size=batch_size)"
   ]
  },
  {
   "cell_type": "markdown",
   "id": "7b165afb-9ab7-4720-a141-66775d54d780",
   "metadata": {},
   "source": [
    "### Keras example\n",
    "https://keras.io/examples/generative/vae/"
   ]
  },
  {
   "cell_type": "code",
   "execution_count": null,
   "id": "92485ea1-2c78-4fcf-b720-88b49a480f1b",
   "metadata": {},
   "outputs": [],
   "source": []
  },
  {
   "cell_type": "code",
   "execution_count": null,
   "id": "81264afd-8617-4762-9d88-177e615579a8",
   "metadata": {},
   "outputs": [],
   "source": []
  },
  {
   "cell_type": "code",
   "execution_count": null,
   "id": "2db09f1c-7ff8-4d04-9ee5-4bfd40d22324",
   "metadata": {},
   "outputs": [],
   "source": []
  },
  {
   "cell_type": "code",
   "execution_count": null,
   "id": "82e39b45-ad37-4cd1-ab54-3ef5d16e3e3f",
   "metadata": {},
   "outputs": [],
   "source": []
  },
  {
   "cell_type": "code",
   "execution_count": null,
   "id": "baf62b30-c4b9-4a6b-90bd-2a237938c51d",
   "metadata": {},
   "outputs": [],
   "source": []
  },
  {
   "cell_type": "code",
   "execution_count": null,
   "id": "2b5ff454-8a74-41ee-8a9a-5c7a86fb4fd4",
   "metadata": {},
   "outputs": [],
   "source": []
  },
  {
   "cell_type": "markdown",
   "id": "7d690dd7-ca7f-477f-b996-78e1c1fcc84d",
   "metadata": {},
   "source": [
    "### Class for CVAE \n",
    "https://colab.research.google.com/github/tensorflow/docs/blob/master/site/en/tutorials/generative/cvae.ipynb#scrollTo=VGLbvBEmjK0a"
   ]
  },
  {
   "cell_type": "code",
   "execution_count": 48,
   "id": "659a9bc3-3d82-44bd-8b3c-6d32e356feba",
   "metadata": {},
   "outputs": [],
   "source": [
    "class CVAE(tf.keras.Model):\n",
    "    \"\"\"Convolutional variational autoencoder.\"\"\"\n",
    "\n",
    "    def __init__(self, latent_dim):\n",
    "        super(CVAE, self).__init__()\n",
    "        self.latent_dim = latent_dim\n",
    "        self.encoder = tf.keras.Sequential(\n",
    "            [\n",
    "                tf.keras.layers.InputLayer(input_shape=(28, 28, 1)),\n",
    "                tf.keras.layers.Conv2D(32, 3, strides=(2, 2), activation='relu', padding='same'),\n",
    "                tf.keras.layers.Conv2D(64, 3, strides=(2, 2), activation='relu', padding='same'),\n",
    "                tf.keras.layers.Flatten(),\n",
    "                # No activation\n",
    "                tf.keras.layers.Dense(latent_dim + latent_dim),\n",
    "            ]\n",
    "        )\n",
    "\n",
    "        self.decoder = tf.keras.Sequential(\n",
    "            [\n",
    "                tf.keras.layers.InputLayer(input_shape=(latent_dim,)),\n",
    "                tf.keras.layers.Dense(units=7*7*32, activation=tf.nn.relu),\n",
    "                tf.keras.layers.Reshape(target_shape=(7, 7, 32)),\n",
    "                tf.keras.layers.Conv2DTranspose(\n",
    "                    filters=64, kernel_size=3, strides=2, padding='same',\n",
    "                    activation='relu'),\n",
    "                tf.keras.layers.Conv2DTranspose(\n",
    "                    filters=32, kernel_size=3, strides=2, padding='same',\n",
    "                    activation='relu'),\n",
    "                # No activation\n",
    "                tf.keras.layers.Conv2DTranspose(\n",
    "                    filters=1, kernel_size=3, strides=1, padding='same'),\n",
    "            ]\n",
    "        )"
   ]
  },
  {
   "cell_type": "markdown",
   "id": "e119c9ac-3d6a-4735-8f4c-b0cd2775f054",
   "metadata": {},
   "source": [
    "NOTE: It seems that the final dense layer in the encoder is doubled so that one latent dimension goes to the mean, and the other to the variance"
   ]
  },
  {
   "cell_type": "code",
   "execution_count": null,
   "id": "ae788aa6-1d53-465e-8e13-a544ef5009e5",
   "metadata": {},
   "outputs": [],
   "source": []
  }
 ],
 "metadata": {
  "kernelspec": {
   "display_name": "Python 3 (ipykernel)",
   "language": "python",
   "name": "python3"
  },
  "language_info": {
   "codemirror_mode": {
    "name": "ipython",
    "version": 3
   },
   "file_extension": ".py",
   "mimetype": "text/x-python",
   "name": "python",
   "nbconvert_exporter": "python",
   "pygments_lexer": "ipython3",
   "version": "3.9.15"
  }
 },
 "nbformat": 4,
 "nbformat_minor": 5
}
