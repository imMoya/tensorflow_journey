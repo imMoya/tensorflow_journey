{
 "cells": [
  {
   "cell_type": "code",
   "execution_count": 26,
   "id": "aa6bd703-bc1c-4b24-ad9f-5517e78aa566",
   "metadata": {},
   "outputs": [
    {
     "name": "stdout",
     "output_type": "stream",
     "text": [
      "Requirement already satisfied: tensorflow-probability in /Users/ignaciomoyaredondo/opt/anaconda3/envs/tf/lib/python3.9/site-packages (0.19.0)\n",
      "Requirement already satisfied: decorator in /Users/ignaciomoyaredondo/opt/anaconda3/envs/tf/lib/python3.9/site-packages (from tensorflow-probability) (5.1.1)\n",
      "Requirement already satisfied: six>=1.10.0 in /Users/ignaciomoyaredondo/opt/anaconda3/envs/tf/lib/python3.9/site-packages (from tensorflow-probability) (1.16.0)\n",
      "Requirement already satisfied: gast>=0.3.2 in /Users/ignaciomoyaredondo/opt/anaconda3/envs/tf/lib/python3.9/site-packages (from tensorflow-probability) (0.4.0)\n",
      "Requirement already satisfied: cloudpickle>=1.3 in /Users/ignaciomoyaredondo/opt/anaconda3/envs/tf/lib/python3.9/site-packages (from tensorflow-probability) (2.2.0)\n",
      "Requirement already satisfied: absl-py in /Users/ignaciomoyaredondo/opt/anaconda3/envs/tf/lib/python3.9/site-packages (from tensorflow-probability) (1.3.0)\n",
      "Requirement already satisfied: dm-tree in /Users/ignaciomoyaredondo/opt/anaconda3/envs/tf/lib/python3.9/site-packages (from tensorflow-probability) (0.1.8)\n",
      "Requirement already satisfied: numpy>=1.13.3 in /Users/ignaciomoyaredondo/opt/anaconda3/envs/tf/lib/python3.9/site-packages (from tensorflow-probability) (1.24.1)\n",
      "Requirement already satisfied: imageio in /Users/ignaciomoyaredondo/opt/anaconda3/envs/tf/lib/python3.9/site-packages (2.23.0)\n",
      "Requirement already satisfied: numpy in /Users/ignaciomoyaredondo/opt/anaconda3/envs/tf/lib/python3.9/site-packages (from imageio) (1.24.1)\n",
      "Requirement already satisfied: pillow>=8.3.2 in /Users/ignaciomoyaredondo/opt/anaconda3/envs/tf/lib/python3.9/site-packages (from imageio) (9.3.0)\n",
      "Collecting git+https://github.com/tensorflow/docs\n",
      "  Cloning https://github.com/tensorflow/docs to /private/var/folders/zf/p75y8jj52c72dh5cv6ys92pm0000gn/T/pip-req-build-aff5ms3z\n",
      "  Running command git clone --filter=blob:none --quiet https://github.com/tensorflow/docs /private/var/folders/zf/p75y8jj52c72dh5cv6ys92pm0000gn/T/pip-req-build-aff5ms3z\n",
      "  Resolved https://github.com/tensorflow/docs to commit 476e61b24de218a85fbd71edffdd314c3c6a8b61\n",
      "  Preparing metadata (setup.py) ... \u001b[?25ldone\n",
      "\u001b[?25hRequirement already satisfied: astor in /Users/ignaciomoyaredondo/opt/anaconda3/envs/tf/lib/python3.9/site-packages (from tensorflow-docs==0.0.0.dev0) (0.8.1)\n",
      "Requirement already satisfied: absl-py in /Users/ignaciomoyaredondo/opt/anaconda3/envs/tf/lib/python3.9/site-packages (from tensorflow-docs==0.0.0.dev0) (1.3.0)\n",
      "Requirement already satisfied: jinja2 in /Users/ignaciomoyaredondo/opt/anaconda3/envs/tf/lib/python3.9/site-packages (from tensorflow-docs==0.0.0.dev0) (3.1.2)\n",
      "Requirement already satisfied: nbformat in /Users/ignaciomoyaredondo/opt/anaconda3/envs/tf/lib/python3.9/site-packages (from tensorflow-docs==0.0.0.dev0) (5.7.1)\n",
      "Requirement already satisfied: protobuf<3.20,>=3.12.0 in /Users/ignaciomoyaredondo/opt/anaconda3/envs/tf/lib/python3.9/site-packages (from tensorflow-docs==0.0.0.dev0) (3.19.6)\n",
      "Requirement already satisfied: pyyaml in /Users/ignaciomoyaredondo/opt/anaconda3/envs/tf/lib/python3.9/site-packages (from tensorflow-docs==0.0.0.dev0) (6.0)\n",
      "Requirement already satisfied: MarkupSafe>=2.0 in /Users/ignaciomoyaredondo/opt/anaconda3/envs/tf/lib/python3.9/site-packages (from jinja2->tensorflow-docs==0.0.0.dev0) (2.1.1)\n",
      "Requirement already satisfied: fastjsonschema in /Users/ignaciomoyaredondo/opt/anaconda3/envs/tf/lib/python3.9/site-packages (from nbformat->tensorflow-docs==0.0.0.dev0) (2.16.2)\n",
      "Requirement already satisfied: jupyter-core in /Users/ignaciomoyaredondo/opt/anaconda3/envs/tf/lib/python3.9/site-packages (from nbformat->tensorflow-docs==0.0.0.dev0) (5.1.1)\n",
      "Requirement already satisfied: jsonschema>=2.6 in /Users/ignaciomoyaredondo/opt/anaconda3/envs/tf/lib/python3.9/site-packages (from nbformat->tensorflow-docs==0.0.0.dev0) (4.17.3)\n",
      "Requirement already satisfied: traitlets>=5.1 in /Users/ignaciomoyaredondo/opt/anaconda3/envs/tf/lib/python3.9/site-packages (from nbformat->tensorflow-docs==0.0.0.dev0) (5.8.0)\n",
      "Requirement already satisfied: attrs>=17.4.0 in /Users/ignaciomoyaredondo/opt/anaconda3/envs/tf/lib/python3.9/site-packages (from jsonschema>=2.6->nbformat->tensorflow-docs==0.0.0.dev0) (22.2.0)\n",
      "Requirement already satisfied: pyrsistent!=0.17.0,!=0.17.1,!=0.17.2,>=0.14.0 in /Users/ignaciomoyaredondo/opt/anaconda3/envs/tf/lib/python3.9/site-packages (from jsonschema>=2.6->nbformat->tensorflow-docs==0.0.0.dev0) (0.19.2)\n",
      "Requirement already satisfied: platformdirs>=2.5 in /Users/ignaciomoyaredondo/opt/anaconda3/envs/tf/lib/python3.9/site-packages (from jupyter-core->nbformat->tensorflow-docs==0.0.0.dev0) (2.6.0)\n"
     ]
    }
   ],
   "source": [
    "!pip install tensorflow-probability\n",
    "!pip install imageio\n",
    "!pip install git+https://github.com/tensorflow/docs"
   ]
  },
  {
   "cell_type": "code",
   "execution_count": 27,
   "id": "5ccc4b9c-4e69-4d2a-8da1-60ac5e7de1bb",
   "metadata": {},
   "outputs": [
    {
     "name": "stdout",
     "output_type": "stream",
     "text": [
      "Requirement already satisfied: tensorflow_datasets in /Users/ignaciomoyaredondo/opt/anaconda3/envs/tf/lib/python3.9/site-packages (4.8.1)\n",
      "Requirement already satisfied: dill in /Users/ignaciomoyaredondo/opt/anaconda3/envs/tf/lib/python3.9/site-packages (from tensorflow_datasets) (0.3.6)\n",
      "Requirement already satisfied: six in /Users/ignaciomoyaredondo/opt/anaconda3/envs/tf/lib/python3.9/site-packages (from tensorflow_datasets) (1.16.0)\n",
      "Requirement already satisfied: click in /Users/ignaciomoyaredondo/opt/anaconda3/envs/tf/lib/python3.9/site-packages (from tensorflow_datasets) (8.1.3)\n",
      "Requirement already satisfied: tqdm in /Users/ignaciomoyaredondo/opt/anaconda3/envs/tf/lib/python3.9/site-packages (from tensorflow_datasets) (4.64.1)\n",
      "Requirement already satisfied: protobuf>=3.12.2 in /Users/ignaciomoyaredondo/opt/anaconda3/envs/tf/lib/python3.9/site-packages (from tensorflow_datasets) (3.19.6)\n",
      "Requirement already satisfied: requests>=2.19.0 in /Users/ignaciomoyaredondo/opt/anaconda3/envs/tf/lib/python3.9/site-packages (from tensorflow_datasets) (2.28.1)\n",
      "Requirement already satisfied: etils[enp,epath]>=0.9.0 in /Users/ignaciomoyaredondo/opt/anaconda3/envs/tf/lib/python3.9/site-packages (from tensorflow_datasets) (0.9.0)\n",
      "Requirement already satisfied: psutil in /Users/ignaciomoyaredondo/opt/anaconda3/envs/tf/lib/python3.9/site-packages (from tensorflow_datasets) (5.9.4)\n",
      "Requirement already satisfied: toml in /Users/ignaciomoyaredondo/opt/anaconda3/envs/tf/lib/python3.9/site-packages (from tensorflow_datasets) (0.10.2)\n",
      "Requirement already satisfied: numpy in /Users/ignaciomoyaredondo/opt/anaconda3/envs/tf/lib/python3.9/site-packages (from tensorflow_datasets) (1.24.1)\n",
      "Requirement already satisfied: termcolor in /Users/ignaciomoyaredondo/opt/anaconda3/envs/tf/lib/python3.9/site-packages (from tensorflow_datasets) (2.1.1)\n",
      "Requirement already satisfied: promise in /Users/ignaciomoyaredondo/opt/anaconda3/envs/tf/lib/python3.9/site-packages (from tensorflow_datasets) (2.3)\n",
      "Requirement already satisfied: absl-py in /Users/ignaciomoyaredondo/opt/anaconda3/envs/tf/lib/python3.9/site-packages (from tensorflow_datasets) (1.3.0)\n",
      "Requirement already satisfied: tensorflow-metadata in /Users/ignaciomoyaredondo/opt/anaconda3/envs/tf/lib/python3.9/site-packages (from tensorflow_datasets) (1.12.0)\n",
      "Requirement already satisfied: dm-tree in /Users/ignaciomoyaredondo/opt/anaconda3/envs/tf/lib/python3.9/site-packages (from tensorflow_datasets) (0.1.8)\n",
      "Requirement already satisfied: zipp in /Users/ignaciomoyaredondo/opt/anaconda3/envs/tf/lib/python3.9/site-packages (from etils[enp,epath]>=0.9.0->tensorflow_datasets) (3.11.0)\n",
      "Requirement already satisfied: importlib_resources in /Users/ignaciomoyaredondo/opt/anaconda3/envs/tf/lib/python3.9/site-packages (from etils[enp,epath]>=0.9.0->tensorflow_datasets) (5.10.2)\n",
      "Requirement already satisfied: typing_extensions in /Users/ignaciomoyaredondo/opt/anaconda3/envs/tf/lib/python3.9/site-packages (from etils[enp,epath]>=0.9.0->tensorflow_datasets) (4.4.0)\n",
      "Requirement already satisfied: idna<4,>=2.5 in /Users/ignaciomoyaredondo/opt/anaconda3/envs/tf/lib/python3.9/site-packages (from requests>=2.19.0->tensorflow_datasets) (3.4)\n",
      "Requirement already satisfied: certifi>=2017.4.17 in /Users/ignaciomoyaredondo/opt/anaconda3/envs/tf/lib/python3.9/site-packages (from requests>=2.19.0->tensorflow_datasets) (2022.12.7)\n",
      "Requirement already satisfied: urllib3<1.27,>=1.21.1 in /Users/ignaciomoyaredondo/opt/anaconda3/envs/tf/lib/python3.9/site-packages (from requests>=2.19.0->tensorflow_datasets) (1.26.13)\n",
      "Requirement already satisfied: charset-normalizer<3,>=2 in /Users/ignaciomoyaredondo/opt/anaconda3/envs/tf/lib/python3.9/site-packages (from requests>=2.19.0->tensorflow_datasets) (2.1.1)\n",
      "Requirement already satisfied: googleapis-common-protos<2,>=1.52.0 in /Users/ignaciomoyaredondo/opt/anaconda3/envs/tf/lib/python3.9/site-packages (from tensorflow-metadata->tensorflow_datasets) (1.57.1)\n"
     ]
    }
   ],
   "source": [
    "!pip install tensorflow_datasets"
   ]
  },
  {
   "cell_type": "code",
   "execution_count": 28,
   "id": "357a190f-95b0-4fbd-848a-3f8866a9e979",
   "metadata": {},
   "outputs": [],
   "source": [
    "from IPython import display\n",
    "import glob\n",
    "import imageio\n",
    "import matplotlib.pyplot as plt\n",
    "import numpy as np\n",
    "import PIL\n",
    "import tensorflow as tf\n",
    "import tensorflow_probability as tfp\n",
    "import time\n",
    "from tensorflow import keras\n",
    "from tensorflow.keras import layers\n",
    "import tensorflow_datasets as tfds\n",
    "from sklearn.model_selection import train_test_split"
   ]
  },
  {
   "cell_type": "markdown",
   "id": "caa0cc59-5f79-438c-ab10-7f5c84deb640",
   "metadata": {},
   "source": [
    "### Loading dataset"
   ]
  },
  {
   "cell_type": "code",
   "execution_count": 29,
   "id": "c7124e82-1849-43f4-b2fa-13df0c044de6",
   "metadata": {},
   "outputs": [],
   "source": [
    "(train_images, _), (test_images, _) = tf.keras.datasets.mnist.load_data()"
   ]
  },
  {
   "cell_type": "code",
   "execution_count": 30,
   "id": "7f219a37-ea11-45b1-b8b9-493329de9b19",
   "metadata": {},
   "outputs": [],
   "source": [
    "X_train = train_images[:50_000] / 255.\n",
    "X_val = train_images[50_000:] / 255.\n",
    "X_test = test_images / 255."
   ]
  },
  {
   "cell_type": "markdown",
   "id": "7b165afb-9ab7-4720-a141-66775d54d780",
   "metadata": {},
   "source": [
    "### Keras example\n",
    "https://keras.io/examples/generative/vae/"
   ]
  },
  {
   "cell_type": "code",
   "execution_count": 33,
   "id": "92485ea1-2c78-4fcf-b720-88b49a480f1b",
   "metadata": {},
   "outputs": [],
   "source": [
    "class Sampling(layers.Layer):\n",
    "    \"\"\"Uses (z_mean, z_log_var) to sample z, the vector encoding a digit.\"\"\"\n",
    "    def call(self, inputs):\n",
    "        z_mean, z_log_var = inputs\n",
    "        epsilon = tf.keras.backend.random_normal(tf.shape(z_log_var))\n",
    "        return z_mean + tf.exp(0.5 * z_log_var) * epsilon"
   ]
  },
  {
   "cell_type": "markdown",
   "id": "64fc6e04-f681-4f16-b067-d64a1fa46fe4",
   "metadata": {},
   "source": [
    "##### Encoder"
   ]
  },
  {
   "cell_type": "code",
   "execution_count": 35,
   "id": "81264afd-8617-4762-9d88-177e615579a8",
   "metadata": {},
   "outputs": [
    {
     "name": "stdout",
     "output_type": "stream",
     "text": [
      "Model: \"encoder\"\n",
      "__________________________________________________________________________________________________\n",
      " Layer (type)                   Output Shape         Param #     Connected to                     \n",
      "==================================================================================================\n",
      " input_5 (InputLayer)           [(None, 28, 28)]     0           []                               \n",
      "                                                                                                  \n",
      " flatten_1 (Flatten)            (None, 784)          0           ['input_5[0][0]']                \n",
      "                                                                                                  \n",
      " dense_8 (Dense)                (None, 160)          125600      ['flatten_1[0][0]']              \n",
      "                                                                                                  \n",
      " dense_9 (Dense)                (None, 80)           12880       ['dense_8[0][0]']                \n",
      "                                                                                                  \n",
      " dense_10 (Dense)               (None, 40)           3240        ['dense_9[0][0]']                \n",
      "                                                                                                  \n",
      " z_mean (Dense)                 (None, 20)           820         ['dense_10[0][0]']               \n",
      "                                                                                                  \n",
      " z_log_var (Dense)              (None, 20)           820         ['dense_10[0][0]']               \n",
      "                                                                                                  \n",
      " sampling_3 (Sampling)          (None, 20)           0           ['z_mean[0][0]',                 \n",
      "                                                                  'z_log_var[0][0]']              \n",
      "                                                                                                  \n",
      "==================================================================================================\n",
      "Total params: 143,360\n",
      "Trainable params: 143,360\n",
      "Non-trainable params: 0\n",
      "__________________________________________________________________________________________________\n"
     ]
    }
   ],
   "source": [
    "latent_dim = 20\n",
    "\n",
    "encoder_inputs = keras.Input(shape=[28, 28])\n",
    "x = layers.Flatten()(encoder_inputs)\n",
    "x = layers.Dense(160, activation=\"relu\")(x)\n",
    "x = layers.Dense(80, activation=\"relu\")(x)\n",
    "x = layers.Dense(40, activation=\"relu\")(x)\n",
    "z_mean = layers.Dense(latent_dim, name=\"z_mean\")(x)\n",
    "z_log_var = layers.Dense(latent_dim, name=\"z_log_var\")(x)\n",
    "z = Sampling()([z_mean, z_log_var])\n",
    "encoder = keras.Model(encoder_inputs, [z_mean, z_log_var, z], name=\"encoder\")\n",
    "encoder.summary()"
   ]
  },
  {
   "cell_type": "markdown",
   "id": "e138809b-9d44-4477-8999-a83ea16d8b44",
   "metadata": {},
   "source": [
    "##### Decoder"
   ]
  },
  {
   "cell_type": "code",
   "execution_count": 37,
   "id": "baf62b30-c4b9-4a6b-90bd-2a237938c51d",
   "metadata": {},
   "outputs": [
    {
     "name": "stdout",
     "output_type": "stream",
     "text": [
      "Model: \"decoder\"\n",
      "_________________________________________________________________\n",
      " Layer (type)                Output Shape              Param #   \n",
      "=================================================================\n",
      " input_7 (InputLayer)        [(None, 20)]              0         \n",
      "                                                                 \n",
      " dense_15 (Dense)            (None, 40)                840       \n",
      "                                                                 \n",
      " dense_16 (Dense)            (None, 80)                3280      \n",
      "                                                                 \n",
      " dense_17 (Dense)            (None, 160)               12960     \n",
      "                                                                 \n",
      " dense_18 (Dense)            (None, 784)               126224    \n",
      "                                                                 \n",
      " reshape_1 (Reshape)         (None, 28, 28)            0         \n",
      "                                                                 \n",
      "=================================================================\n",
      "Total params: 143,304\n",
      "Trainable params: 143,304\n",
      "Non-trainable params: 0\n",
      "_________________________________________________________________\n"
     ]
    }
   ],
   "source": [
    "latent_inputs = keras.Input(shape=[latent_dim])\n",
    "x = layers.Dense(40, activation=\"relu\")(latent_inputs)\n",
    "x = layers.Dense(80, activation=\"relu\")(x)\n",
    "x = layers.Dense(160, activation=\"relu\")(x)\n",
    "x = layers.Dense(28 * 28, activation=\"sigmoid\")(x)\n",
    "decoder_outputs = layers.Reshape([28, 28])(x)\n",
    "decoder = keras.Model(latent_inputs, decoder_outputs, name=\"decoder\")\n",
    "decoder.summary()"
   ]
  },
  {
   "cell_type": "code",
   "execution_count": 38,
   "id": "3a0fbeb9-9832-45f4-8b3b-4216afccd530",
   "metadata": {},
   "outputs": [],
   "source": [
    "_, _, z = encoder(encoder_inputs)\n",
    "reconstructions = decoder(z)\n",
    "variational_ae = keras.Model(inputs=[encoder_inputs], outputs=[reconstructions])"
   ]
  },
  {
   "cell_type": "code",
   "execution_count": 39,
   "id": "c802b5ab-100d-45f1-bb01-d0f9bd4a460f",
   "metadata": {},
   "outputs": [],
   "source": [
    "latent_loss = -0.5 * keras.backend.sum(1 + z_log_var - keras.backend.square(z_mean) - keras.backend.exp(z_log_var), axis=-1)\n",
    "variational_ae.add_loss(keras.backend.mean(latent_loss)/784)\n",
    "variational_ae.compile(loss=\"binary_crossentropy\", optimizer=\"rmsprop\")"
   ]
  },
  {
   "cell_type": "code",
   "execution_count": 40,
   "id": "2ae021f1-f031-49d3-af89-a8c6d19f7dc8",
   "metadata": {},
   "outputs": [
    {
     "name": "stdout",
     "output_type": "stream",
     "text": [
      "Epoch 1/40\n",
      "391/391 [==============================] - 4s 7ms/step - loss: 0.2800 - val_loss: 0.2484\n",
      "Epoch 2/40\n",
      "391/391 [==============================] - 3s 7ms/step - loss: 0.2407 - val_loss: 0.2315\n",
      "Epoch 3/40\n",
      "391/391 [==============================] - 3s 7ms/step - loss: 0.2269 - val_loss: 0.2166\n",
      "Epoch 4/40\n",
      "391/391 [==============================] - 3s 7ms/step - loss: 0.2123 - val_loss: 0.2055\n",
      "Epoch 5/40\n",
      "391/391 [==============================] - 3s 7ms/step - loss: 0.2015 - val_loss: 0.1965\n",
      "Epoch 6/40\n",
      "391/391 [==============================] - 3s 7ms/step - loss: 0.1925 - val_loss: 0.1891\n",
      "Epoch 7/40\n",
      "391/391 [==============================] - 3s 7ms/step - loss: 0.1859 - val_loss: 0.1830\n",
      "Epoch 8/40\n",
      "391/391 [==============================] - 3s 7ms/step - loss: 0.1808 - val_loss: 0.1804\n",
      "Epoch 9/40\n",
      "391/391 [==============================] - 3s 7ms/step - loss: 0.1769 - val_loss: 0.1756\n",
      "Epoch 10/40\n",
      "391/391 [==============================] - 3s 7ms/step - loss: 0.1739 - val_loss: 0.1706\n",
      "Epoch 11/40\n",
      "391/391 [==============================] - 3s 7ms/step - loss: 0.1714 - val_loss: 0.1715\n",
      "Epoch 12/40\n",
      "391/391 [==============================] - 3s 7ms/step - loss: 0.1693 - val_loss: 0.1673\n",
      "Epoch 13/40\n",
      "391/391 [==============================] - 3s 7ms/step - loss: 0.1674 - val_loss: 0.1664\n",
      "Epoch 14/40\n",
      "391/391 [==============================] - 3s 7ms/step - loss: 0.1658 - val_loss: 0.1649\n",
      "Epoch 15/40\n",
      "391/391 [==============================] - 3s 7ms/step - loss: 0.1643 - val_loss: 0.1620\n",
      "Epoch 16/40\n",
      "391/391 [==============================] - 3s 7ms/step - loss: 0.1628 - val_loss: 0.1630\n",
      "Epoch 17/40\n",
      "391/391 [==============================] - 3s 7ms/step - loss: 0.1615 - val_loss: 0.1600\n",
      "Epoch 18/40\n",
      "391/391 [==============================] - 3s 7ms/step - loss: 0.1605 - val_loss: 0.1595\n",
      "Epoch 19/40\n",
      "391/391 [==============================] - 3s 7ms/step - loss: 0.1596 - val_loss: 0.1595\n",
      "Epoch 20/40\n",
      "391/391 [==============================] - 3s 7ms/step - loss: 0.1587 - val_loss: 0.1588\n",
      "Epoch 21/40\n",
      "391/391 [==============================] - 3s 7ms/step - loss: 0.1581 - val_loss: 0.1591\n",
      "Epoch 22/40\n",
      "391/391 [==============================] - 3s 7ms/step - loss: 0.1574 - val_loss: 0.1555\n",
      "Epoch 23/40\n",
      "391/391 [==============================] - 3s 7ms/step - loss: 0.1567 - val_loss: 0.1575\n",
      "Epoch 24/40\n",
      "391/391 [==============================] - 3s 7ms/step - loss: 0.1562 - val_loss: 0.1563\n",
      "Epoch 25/40\n",
      "391/391 [==============================] - 3s 7ms/step - loss: 0.1556 - val_loss: 0.1567\n",
      "Epoch 26/40\n",
      "391/391 [==============================] - 3s 7ms/step - loss: 0.1551 - val_loss: 0.1543\n",
      "Epoch 27/40\n",
      "391/391 [==============================] - 3s 7ms/step - loss: 0.1547 - val_loss: 0.1537\n",
      "Epoch 28/40\n",
      "391/391 [==============================] - 3s 7ms/step - loss: 0.1542 - val_loss: 0.1544\n",
      "Epoch 29/40\n",
      "391/391 [==============================] - 3s 7ms/step - loss: 0.1537 - val_loss: 0.1544\n",
      "Epoch 30/40\n",
      "391/391 [==============================] - 3s 7ms/step - loss: 0.1533 - val_loss: 0.1543\n",
      "Epoch 31/40\n",
      "391/391 [==============================] - 3s 7ms/step - loss: 0.1529 - val_loss: 0.1531\n",
      "Epoch 32/40\n",
      "391/391 [==============================] - 3s 7ms/step - loss: 0.1526 - val_loss: 0.1520\n",
      "Epoch 33/40\n",
      "391/391 [==============================] - 3s 7ms/step - loss: 0.1523 - val_loss: 0.1522\n",
      "Epoch 34/40\n",
      "391/391 [==============================] - 3s 7ms/step - loss: 0.1519 - val_loss: 0.1522\n",
      "Epoch 35/40\n",
      "391/391 [==============================] - 3s 7ms/step - loss: 0.1516 - val_loss: 0.1525\n",
      "Epoch 36/40\n",
      "391/391 [==============================] - 3s 7ms/step - loss: 0.1513 - val_loss: 0.1504\n",
      "Epoch 37/40\n",
      "391/391 [==============================] - 3s 7ms/step - loss: 0.1510 - val_loss: 0.1520\n",
      "Epoch 38/40\n",
      "391/391 [==============================] - 3s 7ms/step - loss: 0.1507 - val_loss: 0.1507\n",
      "Epoch 39/40\n",
      "391/391 [==============================] - 3s 7ms/step - loss: 0.1504 - val_loss: 0.1525\n",
      "Epoch 40/40\n",
      "391/391 [==============================] - 3s 7ms/step - loss: 0.1502 - val_loss: 0.1502\n"
     ]
    }
   ],
   "source": [
    "history = variational_ae.fit(X_train, X_train, epochs=40, batch_size=128, validation_data=[X_val, X_val])"
   ]
  },
  {
   "cell_type": "code",
   "execution_count": 41,
   "id": "d764f970-43f4-4285-9952-6befeb818bc7",
   "metadata": {},
   "outputs": [],
   "source": [
    "latent_tensor = tf.random.normal([6, latent_dim])"
   ]
  },
  {
   "cell_type": "code",
   "execution_count": 42,
   "id": "2b5ff454-8a74-41ee-8a9a-5c7a86fb4fd4",
   "metadata": {},
   "outputs": [],
   "source": [
    "image = decoder(latent_tensor).numpy()"
   ]
  },
  {
   "cell_type": "code",
   "execution_count": 43,
   "id": "ae405b17-aad0-4041-868c-432ed151d3a6",
   "metadata": {},
   "outputs": [
    {
     "data": {
      "text/plain": [
       "(28, 28)"
      ]
     },
     "execution_count": 43,
     "metadata": {},
     "output_type": "execute_result"
    }
   ],
   "source": [
    "image[0].shape"
   ]
  },
  {
   "cell_type": "code",
   "execution_count": 46,
   "id": "cc779ac5-0538-4904-82e1-4b84cfe30ee1",
   "metadata": {},
   "outputs": [
    {
     "data": {
      "image/png": "[encoded data removed]",
      "text/plain": [
       "<Figure size 640x480 with 1 Axes>"
      ]
     },
     "metadata": {},
     "output_type": "display_data"
    }
   ],
   "source": [
    "from matplotlib import pyplot as plt\n",
    "ax, fig = plt.subplot(6)\n",
    "for i in range(len(image)):\n",
    "    ax[i].imshow(im)"
   ]
  },
  {
   "cell_type": "markdown",
   "id": "7d690dd7-ca7f-477f-b996-78e1c1fcc84d",
   "metadata": {
    "tags": []
   },
   "source": [
    "### Class for CVAE \n",
    "https://colab.research.google.com/github/tensorflow/docs/blob/master/site/en/tutorials/generative/cvae.ipynb#scrollTo=VGLbvBEmjK0a"
   ]
  }
 ],
 "metadata": {
  "kernelspec": {
   "display_name": "Python 3 (ipykernel)",
   "language": "python",
   "name": "python3"
  },
  "language_info": {
   "codemirror_mode": {
    "name": "ipython",
    "version": 3
   },
   "file_extension": ".py",
   "mimetype": "text/x-python",
   "name": "python",
   "nbconvert_exporter": "python",
   "pygments_lexer": "ipython3",
   "version": "3.9.15"
  }
 },
 "nbformat": 4,
 "nbformat_minor": 5
}
